{
 "cells": [
  {
   "cell_type": "markdown",
   "id": "dafff308",
   "metadata": {},
   "source": [
    "# Assignment 13"
   ]
  },
  {
   "cell_type": "code",
   "execution_count": null,
   "id": "10599157",
   "metadata": {},
   "outputs": [],
   "source": [
    "1.In Excel, spreadsheets can have values of data types other than strings; cells can have different fonts, sizes, or color settings; cells can have varying widths and heights; adjacent cells can be merged; and you can embed images and charts.\n",
    "\n",
    "2.You pass a File object, obtained from a call to open().\n",
    "\n",
    "3.File objects need to be opened in read-binary ('rb') for Reader objects and write-binary ('wb') for Writer objects.\n",
    "\n",
    "4.The writerow() method\n",
    "\n",
    "5.The delimiter argument changes the string used to separate cells in a row. The lineterminator argument changes the string used to separate rows.\n",
    "\n",
    "6.json.loads()\n",
    "\n",
    "7.json.dumps()"
   ]
  }
 ],
 "metadata": {
  "kernelspec": {
   "display_name": "Python 3",
   "language": "python",
   "name": "python3"
  },
  "language_info": {
   "codemirror_mode": {
    "name": "ipython",
    "version": 3
   },
   "file_extension": ".py",
   "mimetype": "text/x-python",
   "name": "python",
   "nbconvert_exporter": "python",
   "pygments_lexer": "ipython3",
   "version": "3.8.8"
  }
 },
 "nbformat": 4,
 "nbformat_minor": 5
}
